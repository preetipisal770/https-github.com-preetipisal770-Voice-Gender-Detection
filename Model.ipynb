{
 "cells": [
  {
   "cell_type": "markdown",
   "id": "60b99f01",
   "metadata": {},
   "source": [
    "#Model Notebook"
   ]
  },
  {
   "cell_type": "markdown",
   "id": "93faf048",
   "metadata": {},
   "source": [
    "This is the notebook for model in voice gender detector.Here,we will extract the data , train it and fit in into our model,and will evaluate our results and optimize the model for better results."
   ]
  },
  {
   "cell_type": "code",
   "execution_count": 2,
   "id": "c81a6b83",
   "metadata": {},
   "outputs": [],
   "source": [
    "#step 1 Import the necessary libraries"
   ]
  },
  {
   "cell_type": "code",
   "execution_count": 3,
   "id": "beb6dab7",
   "metadata": {},
   "outputs": [
    {
     "name": "stdout",
     "output_type": "stream",
     "text": [
      "WARNING:tensorflow:From C:\\Users\\preet\\AppData\\Local\\Programs\\Python\\Python311\\Lib\\site-packages\\keras\\src\\losses.py:2976: The name tf.losses.sparse_softmax_cross_entropy is deprecated. Please use tf.compat.v1.losses.sparse_softmax_cross_entropy instead.\n",
      "\n"
     ]
    }
   ],
   "source": [
    "import pandas as pd\n",
    "import numpy as np\n",
    "import os\n",
    "import tqdm\n",
    "from tensorflow.keras.models import Sequential\n",
    "from tensorflow.keras.layers import Dense, LSTM, Dropout\n",
    "from sklearn.model_selection import train_test_split"
   ]
  },
  {
   "cell_type": "code",
   "execution_count": 4,
   "id": "89ca847d",
   "metadata": {},
   "outputs": [],
   "source": [
    "#Step 2:- Data Gathering"
   ]
  },
  {
   "cell_type": "code",
   "execution_count": 5,
   "id": "d41057c6",
   "metadata": {},
   "outputs": [
    {
     "data": {
      "text/html": [
       "<div>\n",
       "<style scoped>\n",
       "    .dataframe tbody tr th:only-of-type {\n",
       "        vertical-align: middle;\n",
       "    }\n",
       "\n",
       "    .dataframe tbody tr th {\n",
       "        vertical-align: top;\n",
       "    }\n",
       "\n",
       "    .dataframe thead th {\n",
       "        text-align: right;\n",
       "    }\n",
       "</style>\n",
       "<table border=\"1\" class=\"dataframe\">\n",
       "  <thead>\n",
       "    <tr style=\"text-align: right;\">\n",
       "      <th></th>\n",
       "      <th>filename</th>\n",
       "      <th>gender</th>\n",
       "    </tr>\n",
       "  </thead>\n",
       "  <tbody>\n",
       "    <tr>\n",
       "      <th>0</th>\n",
       "      <td>data/cv-other-train/sample-069205.npy</td>\n",
       "      <td>female</td>\n",
       "    </tr>\n",
       "    <tr>\n",
       "      <th>1</th>\n",
       "      <td>data/cv-valid-train/sample-063134.npy</td>\n",
       "      <td>female</td>\n",
       "    </tr>\n",
       "    <tr>\n",
       "      <th>2</th>\n",
       "      <td>data/cv-other-train/sample-080873.npy</td>\n",
       "      <td>female</td>\n",
       "    </tr>\n",
       "    <tr>\n",
       "      <th>3</th>\n",
       "      <td>data/cv-other-train/sample-105595.npy</td>\n",
       "      <td>female</td>\n",
       "    </tr>\n",
       "    <tr>\n",
       "      <th>4</th>\n",
       "      <td>data/cv-valid-train/sample-144613.npy</td>\n",
       "      <td>female</td>\n",
       "    </tr>\n",
       "    <tr>\n",
       "      <th>...</th>\n",
       "      <td>...</td>\n",
       "      <td>...</td>\n",
       "    </tr>\n",
       "    <tr>\n",
       "      <th>66933</th>\n",
       "      <td>data/cv-valid-train/sample-171098.npy</td>\n",
       "      <td>male</td>\n",
       "    </tr>\n",
       "    <tr>\n",
       "      <th>66934</th>\n",
       "      <td>data/cv-other-train/sample-022864.npy</td>\n",
       "      <td>male</td>\n",
       "    </tr>\n",
       "    <tr>\n",
       "      <th>66935</th>\n",
       "      <td>data/cv-valid-train/sample-080933.npy</td>\n",
       "      <td>male</td>\n",
       "    </tr>\n",
       "    <tr>\n",
       "      <th>66936</th>\n",
       "      <td>data/cv-other-train/sample-012026.npy</td>\n",
       "      <td>male</td>\n",
       "    </tr>\n",
       "    <tr>\n",
       "      <th>66937</th>\n",
       "      <td>data/cv-other-train/sample-013841.npy</td>\n",
       "      <td>male</td>\n",
       "    </tr>\n",
       "  </tbody>\n",
       "</table>\n",
       "<p>66938 rows × 2 columns</p>\n",
       "</div>"
      ],
      "text/plain": [
       "                                    filename  gender\n",
       "0      data/cv-other-train/sample-069205.npy  female\n",
       "1      data/cv-valid-train/sample-063134.npy  female\n",
       "2      data/cv-other-train/sample-080873.npy  female\n",
       "3      data/cv-other-train/sample-105595.npy  female\n",
       "4      data/cv-valid-train/sample-144613.npy  female\n",
       "...                                      ...     ...\n",
       "66933  data/cv-valid-train/sample-171098.npy    male\n",
       "66934  data/cv-other-train/sample-022864.npy    male\n",
       "66935  data/cv-valid-train/sample-080933.npy    male\n",
       "66936  data/cv-other-train/sample-012026.npy    male\n",
       "66937  data/cv-other-train/sample-013841.npy    male\n",
       "\n",
       "[66938 rows x 2 columns]"
      ]
     },
     "execution_count": 5,
     "metadata": {},
     "output_type": "execute_result"
    }
   ],
   "source": [
    "df = pd.read_csv(\"balanced-all.csv\")\n",
    "df"
   ]
  },
  {
   "cell_type": "code",
   "execution_count": 6,
   "id": "299f9c65",
   "metadata": {},
   "outputs": [],
   "source": [
    "#Step 3:- EDA"
   ]
  },
  {
   "cell_type": "code",
   "execution_count": 7,
   "id": "99ca6c62",
   "metadata": {},
   "outputs": [
    {
     "data": {
      "text/html": [
       "<div>\n",
       "<style scoped>\n",
       "    .dataframe tbody tr th:only-of-type {\n",
       "        vertical-align: middle;\n",
       "    }\n",
       "\n",
       "    .dataframe tbody tr th {\n",
       "        vertical-align: top;\n",
       "    }\n",
       "\n",
       "    .dataframe thead th {\n",
       "        text-align: right;\n",
       "    }\n",
       "</style>\n",
       "<table border=\"1\" class=\"dataframe\">\n",
       "  <thead>\n",
       "    <tr style=\"text-align: right;\">\n",
       "      <th></th>\n",
       "      <th>filename</th>\n",
       "      <th>gender</th>\n",
       "    </tr>\n",
       "  </thead>\n",
       "  <tbody>\n",
       "    <tr>\n",
       "      <th>0</th>\n",
       "      <td>data/cv-other-train/sample-069205.npy</td>\n",
       "      <td>female</td>\n",
       "    </tr>\n",
       "    <tr>\n",
       "      <th>1</th>\n",
       "      <td>data/cv-valid-train/sample-063134.npy</td>\n",
       "      <td>female</td>\n",
       "    </tr>\n",
       "    <tr>\n",
       "      <th>2</th>\n",
       "      <td>data/cv-other-train/sample-080873.npy</td>\n",
       "      <td>female</td>\n",
       "    </tr>\n",
       "    <tr>\n",
       "      <th>3</th>\n",
       "      <td>data/cv-other-train/sample-105595.npy</td>\n",
       "      <td>female</td>\n",
       "    </tr>\n",
       "    <tr>\n",
       "      <th>4</th>\n",
       "      <td>data/cv-valid-train/sample-144613.npy</td>\n",
       "      <td>female</td>\n",
       "    </tr>\n",
       "  </tbody>\n",
       "</table>\n",
       "</div>"
      ],
      "text/plain": [
       "                                filename  gender\n",
       "0  data/cv-other-train/sample-069205.npy  female\n",
       "1  data/cv-valid-train/sample-063134.npy  female\n",
       "2  data/cv-other-train/sample-080873.npy  female\n",
       "3  data/cv-other-train/sample-105595.npy  female\n",
       "4  data/cv-valid-train/sample-144613.npy  female"
      ]
     },
     "execution_count": 7,
     "metadata": {},
     "output_type": "execute_result"
    }
   ],
   "source": [
    "df.head()"
   ]
  },
  {
   "cell_type": "code",
   "execution_count": 8,
   "id": "2ca640cd",
   "metadata": {},
   "outputs": [
    {
     "data": {
      "text/html": [
       "<div>\n",
       "<style scoped>\n",
       "    .dataframe tbody tr th:only-of-type {\n",
       "        vertical-align: middle;\n",
       "    }\n",
       "\n",
       "    .dataframe tbody tr th {\n",
       "        vertical-align: top;\n",
       "    }\n",
       "\n",
       "    .dataframe thead th {\n",
       "        text-align: right;\n",
       "    }\n",
       "</style>\n",
       "<table border=\"1\" class=\"dataframe\">\n",
       "  <thead>\n",
       "    <tr style=\"text-align: right;\">\n",
       "      <th></th>\n",
       "      <th>filename</th>\n",
       "      <th>gender</th>\n",
       "    </tr>\n",
       "  </thead>\n",
       "  <tbody>\n",
       "    <tr>\n",
       "      <th>66933</th>\n",
       "      <td>data/cv-valid-train/sample-171098.npy</td>\n",
       "      <td>male</td>\n",
       "    </tr>\n",
       "    <tr>\n",
       "      <th>66934</th>\n",
       "      <td>data/cv-other-train/sample-022864.npy</td>\n",
       "      <td>male</td>\n",
       "    </tr>\n",
       "    <tr>\n",
       "      <th>66935</th>\n",
       "      <td>data/cv-valid-train/sample-080933.npy</td>\n",
       "      <td>male</td>\n",
       "    </tr>\n",
       "    <tr>\n",
       "      <th>66936</th>\n",
       "      <td>data/cv-other-train/sample-012026.npy</td>\n",
       "      <td>male</td>\n",
       "    </tr>\n",
       "    <tr>\n",
       "      <th>66937</th>\n",
       "      <td>data/cv-other-train/sample-013841.npy</td>\n",
       "      <td>male</td>\n",
       "    </tr>\n",
       "  </tbody>\n",
       "</table>\n",
       "</div>"
      ],
      "text/plain": [
       "                                    filename gender\n",
       "66933  data/cv-valid-train/sample-171098.npy   male\n",
       "66934  data/cv-other-train/sample-022864.npy   male\n",
       "66935  data/cv-valid-train/sample-080933.npy   male\n",
       "66936  data/cv-other-train/sample-012026.npy   male\n",
       "66937  data/cv-other-train/sample-013841.npy   male"
      ]
     },
     "execution_count": 8,
     "metadata": {},
     "output_type": "execute_result"
    }
   ],
   "source": [
    "df.tail()"
   ]
  },
  {
   "cell_type": "code",
   "execution_count": 9,
   "id": "f5988cb7",
   "metadata": {},
   "outputs": [
    {
     "data": {
      "text/plain": [
       "filename    0\n",
       "gender      0\n",
       "dtype: int64"
      ]
     },
     "execution_count": 9,
     "metadata": {},
     "output_type": "execute_result"
    }
   ],
   "source": [
    "df.isnull().sum()"
   ]
  },
  {
   "cell_type": "code",
   "execution_count": 10,
   "id": "c63519a3",
   "metadata": {},
   "outputs": [],
   "source": [
    "#Step 4:-Plotting samples"
   ]
  },
  {
   "cell_type": "code",
   "execution_count": 12,
   "id": "f61f15f7",
   "metadata": {},
   "outputs": [
    {
     "data": {
      "text/plain": [
       "gender\n",
       "female    33469\n",
       "male      33469\n",
       "Name: count, dtype: int64"
      ]
     },
     "execution_count": 12,
     "metadata": {},
     "output_type": "execute_result"
    }
   ],
   "source": [
    "df['gender'].value_counts()"
   ]
  },
  {
   "cell_type": "code",
   "execution_count": 13,
   "id": "382ae5a1",
   "metadata": {},
   "outputs": [
    {
     "name": "stdout",
     "output_type": "stream",
     "text": [
      "33469\n"
     ]
    }
   ],
   "source": [
    "# get total male samples\n",
    "male_samples = len(df[df['gender'] == 'male'])\n",
    "print(male_samples)"
   ]
  },
  {
   "cell_type": "code",
   "execution_count": 14,
   "id": "ed4fc312",
   "metadata": {},
   "outputs": [
    {
     "name": "stdout",
     "output_type": "stream",
     "text": [
      "33469\n"
     ]
    }
   ],
   "source": [
    "# get total female samples\n",
    "female_samples = len(df[df['gender'] == 'female'])\n",
    "print(female_samples)"
   ]
  },
  {
   "cell_type": "code",
   "execution_count": 16,
   "id": "e1459f3c",
   "metadata": {},
   "outputs": [
    {
     "data": {
      "image/png": "[encoded data removed]",
      "text/plain": [
       "<Figure size 640x480 with 1 Axes>"
      ]
     },
     "metadata": {},
     "output_type": "display_data"
    }
   ],
   "source": [
    "from matplotlib import pyplot as plt\n",
    "fig=plt.figure()\n",
    "ax=fig.add_axes([0,0,1,1])\n",
    "gender=['Male','Female']\n",
    "values=[33469,33469]\n",
    "ax.bar(gender,values)\n",
    "plt.show()"
   ]
  },
  {
   "cell_type": "code",
   "execution_count": 17,
   "id": "534d3d95",
   "metadata": {},
   "outputs": [],
   "source": [
    "#Step 5:- Labelling For Male and Female"
   ]
  },
  {
   "cell_type": "code",
   "execution_count": 18,
   "id": "cf7eddfd",
   "metadata": {},
   "outputs": [
    {
     "name": "stdout",
     "output_type": "stream",
     "text": [
      "{'male': 1, 'female': 0}\n"
     ]
    }
   ],
   "source": [
    "label={\"male\":1,\"female\":0}\n",
    "print(label)"
   ]
  },
  {
   "cell_type": "code",
   "execution_count": 19,
   "id": "5e71ac61",
   "metadata": {},
   "outputs": [],
   "source": [
    "#Step 6:- Defining Function\n",
    "#It will save that bundled array in results folder, which will save us time in the second run."
   ]
  },
  {
   "cell_type": "code",
   "execution_count": 20,
   "id": "37460e5c",
   "metadata": {},
   "outputs": [],
   "source": [
    "def load_data(vector_length=128):\n",
    "    \"\"\"A function to load gender recognition dataset from `data` folder.\"\"\"\n",
    "    results_folder = \"results\"\n",
    "    features_file = os.path.join(results_folder, \"features.npy\")\n",
    "    labels_file = os.path.join(results_folder, \"labels.npy\")\n",
    "\n",
    "    # Make sure results folder exists\n",
    "    if not os.path.isdir(results_folder):\n",
    "        os.mkdir(results_folder)\n",
    "\n",
    "    # If features & labels already loaded individually and bundled, load them from there instead\n",
    "    if os.path.isfile(features_file) and os.path.isfile(labels_file):\n",
    "        return np.load(features_file), np.load(labels_file)\n",
    "\n",
    "    # Read dataframe\n",
    "    df = pd.read_csv(\"balanced-all.csv\")\n",
    "\n",
    "    # Initialize arrays for audio features and labels\n",
    "    x = np.zeros((len(df), vector_length))\n",
    "    y = np.zeros((len(df), 1))\n",
    "\n",
    "    for i, (filename, gender) in tqdm.tqdm(enumerate(zip(df['filename'], df['gender'])), \"Loading data\", total=len(df)):\n",
    "        features = np.load(filename)\n",
    "        x[i] = features\n",
    "        y[i] = label2int.get(gender, 0)  # Assuming label2int is a dictionary\n",
    "\n",
    "    # Save the audio features and labels into files\n",
    "    np.save(features_file, x)\n",
    "    np.save(labels_file, y)\n",
    "\n",
    "    return x, y\n"
   ]
  },
  {
   "cell_type": "code",
   "execution_count": 33,
   "id": "a763740e",
   "metadata": {},
   "outputs": [],
   "source": [
    "#Step 7:-Splitting the Dataset into test and train,valid"
   ]
  },
  {
   "cell_type": "code",
   "execution_count": 22,
   "id": "b5f70398",
   "metadata": {},
   "outputs": [],
   "source": [
    "def split_data(x, y, test_size=0.1, valid_size=0.1):\n",
    "    # split training set and testing set\n",
    "    x_train, x_test, y_train, y_test = train_test_split(x, y, test_size=test_size, random_state=7)\n",
    "    # split training set and validation set\n",
    "    x_train, x_valid, y_train, y_valid = train_test_split(x_train, y_train, test_size=valid_size, random_state=7)\n",
    "    # return a dictionary of values\n",
    "    return {\n",
    "        \"x_train\": x_train,\n",
    "        \"x_valid\": x_valid,\n",
    "        \"x_test\": x_test,\n",
    "        \"y_train\": y_train,\n",
    "        \"y_valid\": y_valid,\n",
    "        \"y_test\": y_test\n",
    "    }\n"
   ]
  },
  {
   "cell_type": "code",
   "execution_count": null,
   "id": "4e0c6abf",
   "metadata": {},
   "outputs": [],
   "source": [
    "#Step 8:-Load Dataset"
   ]
  },
  {
   "cell_type": "code",
   "execution_count": 23,
   "id": "17b33e82",
   "metadata": {},
   "outputs": [],
   "source": [
    "# load the dataset\n",
    "x, y = load_data()\n",
    "# split the data into training, validation and testing sets\n",
    "data = split_data(x, y, test_size=0.1, valid_size=0.1)"
   ]
  },
  {
   "cell_type": "code",
   "execution_count": 34,
   "id": "e46551f3",
   "metadata": {},
   "outputs": [],
   "source": [
    "#Step 9:-#Defining the Model\n",
    "#define model which will be convolutional model\n",
    "#save file in h5 weight file and use in gui file"
   ]
  },
  {
   "cell_type": "code",
   "execution_count": 24,
   "id": "8ac48f26",
   "metadata": {},
   "outputs": [],
   "source": [
    "def create_model(vector_length=128):\n",
    "    \"\"\"5 hidden dense layers from 256 units to 64, not the best model, but not bad.\"\"\"\n",
    "    model = Sequential()\n",
    "    model.add(Dense(256, input_shape=(vector_length,)))\n",
    "    model.add(Dropout(0.3))\n",
    "    model.add(Dense(256, activation=\"relu\"))\n",
    "    model.add(Dropout(0.3))\n",
    "    model.add(Dense(128, activation=\"relu\"))\n",
    "    model.add(Dropout(0.3))\n",
    "    model.add(Dense(128, activation=\"relu\"))\n",
    "    model.add(Dropout(0.3))\n",
    "    model.add(Dense(64, activation=\"relu\"))\n",
    "    model.add(Dropout(0.3))\n",
    "    # one output neuron with sigmoid activation function, 0 means female, 1 means male\n",
    "    model.add(Dense(1, activation=\"sigmoid\"))\n",
    "    # using binary crossentropy as it's male/female classification (binary)\n",
    "    model.compile(loss=\"binary_crossentropy\", metrics=[\"accuracy\"], optimizer=\"adam\")\n",
    "    # print summary of the model\n",
    "    model.summary()\n",
    "    return model"
   ]
  },
  {
   "cell_type": "code",
   "execution_count": 25,
   "id": "d744e73c",
   "metadata": {},
   "outputs": [
    {
     "name": "stdout",
     "output_type": "stream",
     "text": [
      "WARNING:tensorflow:From C:\\Users\\preet\\AppData\\Local\\Programs\\Python\\Python311\\Lib\\site-packages\\keras\\src\\backend.py:873: The name tf.get_default_graph is deprecated. Please use tf.compat.v1.get_default_graph instead.\n",
      "\n",
      "WARNING:tensorflow:From C:\\Users\\preet\\AppData\\Local\\Programs\\Python\\Python311\\Lib\\site-packages\\keras\\src\\optimizers\\__init__.py:309: The name tf.train.Optimizer is deprecated. Please use tf.compat.v1.train.Optimizer instead.\n",
      "\n",
      "Model: \"sequential\"\n",
      "_________________________________________________________________\n",
      " Layer (type)                Output Shape              Param #   \n",
      "=================================================================\n",
      " dense (Dense)               (None, 256)               33024     \n",
      "                                                                 \n",
      " dropout (Dropout)           (None, 256)               0         \n",
      "                                                                 \n",
      " dense_1 (Dense)             (None, 256)               65792     \n",
      "                                                                 \n",
      " dropout_1 (Dropout)         (None, 256)               0         \n",
      "                                                                 \n",
      " dense_2 (Dense)             (None, 128)               32896     \n",
      "                                                                 \n",
      " dropout_2 (Dropout)         (None, 128)               0         \n",
      "                                                                 \n",
      " dense_3 (Dense)             (None, 128)               16512     \n",
      "                                                                 \n",
      " dropout_3 (Dropout)         (None, 128)               0         \n",
      "                                                                 \n",
      " dense_4 (Dense)             (None, 64)                8256      \n",
      "                                                                 \n",
      " dropout_4 (Dropout)         (None, 64)                0         \n",
      "                                                                 \n",
      " dense_5 (Dense)             (None, 1)                 65        \n",
      "                                                                 \n",
      "=================================================================\n",
      "Total params: 156545 (611.50 KB)\n",
      "Trainable params: 156545 (611.50 KB)\n",
      "Non-trainable params: 0 (0.00 Byte)\n",
      "_________________________________________________________________\n"
     ]
    }
   ],
   "source": [
    "#Step 10:- construct the model\n",
    "model = create_model()"
   ]
  },
  {
   "cell_type": "code",
   "execution_count": 29,
   "id": "760fafcf",
   "metadata": {},
   "outputs": [],
   "source": [
    "#Step 11:-Traning the Model"
   ]
  },
  {
   "cell_type": "code",
   "execution_count": 28,
   "id": "5ea96f59",
   "metadata": {},
   "outputs": [
    {
     "name": "stdout",
     "output_type": "stream",
     "text": [
      "Epoch 1/100\n",
      "WARNING:tensorflow:From C:\\Users\\preet\\AppData\\Local\\Programs\\Python\\Python311\\Lib\\site-packages\\keras\\src\\utils\\tf_utils.py:492: The name tf.ragged.RaggedTensorValue is deprecated. Please use tf.compat.v1.ragged.RaggedTensorValue instead.\n",
      "\n",
      "WARNING:tensorflow:From C:\\Users\\preet\\AppData\\Local\\Programs\\Python\\Python311\\Lib\\site-packages\\keras\\src\\engine\\base_layer_utils.py:384: The name tf.executing_eagerly_outside_functions is deprecated. Please use tf.compat.v1.executing_eagerly_outside_functions instead.\n",
      "\n",
      "848/848 [==============================] - 14s 13ms/step - loss: 0.5570 - accuracy: 0.7593 - val_loss: 0.3783 - val_accuracy: 0.8483\n",
      "Epoch 2/100\n",
      "848/848 [==============================] - 9s 11ms/step - loss: 0.4185 - accuracy: 0.8322 - val_loss: 0.3407 - val_accuracy: 0.8641\n",
      "Epoch 3/100\n",
      "848/848 [==============================] - 10s 12ms/step - loss: 0.3784 - accuracy: 0.8522 - val_loss: 0.3072 - val_accuracy: 0.8778\n",
      "Epoch 4/100\n",
      "848/848 [==============================] - 10s 12ms/step - loss: 0.3628 - accuracy: 0.8604 - val_loss: 0.3011 - val_accuracy: 0.8783\n",
      "Epoch 5/100\n",
      "848/848 [==============================] - 9s 11ms/step - loss: 0.3483 - accuracy: 0.8677 - val_loss: 0.2943 - val_accuracy: 0.8822\n",
      "Epoch 6/100\n",
      "848/848 [==============================] - 9s 11ms/step - loss: 0.3340 - accuracy: 0.8717 - val_loss: 0.2990 - val_accuracy: 0.8808\n",
      "Epoch 7/100\n",
      "848/848 [==============================] - 10s 11ms/step - loss: 0.3298 - accuracy: 0.8728 - val_loss: 0.2862 - val_accuracy: 0.8929\n",
      "Epoch 8/100\n",
      "848/848 [==============================] - 9s 11ms/step - loss: 0.3247 - accuracy: 0.8735 - val_loss: 0.2717 - val_accuracy: 0.8941\n",
      "Epoch 9/100\n",
      "848/848 [==============================] - 9s 11ms/step - loss: 0.3127 - accuracy: 0.8794 - val_loss: 0.2748 - val_accuracy: 0.8968\n",
      "Epoch 10/100\n",
      "848/848 [==============================] - 10s 12ms/step - loss: 0.3078 - accuracy: 0.8834 - val_loss: 0.2635 - val_accuracy: 0.8958\n",
      "Epoch 11/100\n",
      "848/848 [==============================] - 9s 11ms/step - loss: 0.3070 - accuracy: 0.8853 - val_loss: 0.2606 - val_accuracy: 0.8964\n",
      "Epoch 12/100\n",
      "848/848 [==============================] - 10s 12ms/step - loss: 0.2973 - accuracy: 0.8879 - val_loss: 0.2583 - val_accuracy: 0.8986\n",
      "Epoch 13/100\n",
      "848/848 [==============================] - 11s 13ms/step - loss: 0.2963 - accuracy: 0.8885 - val_loss: 0.2514 - val_accuracy: 0.9027\n",
      "Epoch 14/100\n",
      "848/848 [==============================] - 11s 12ms/step - loss: 0.2945 - accuracy: 0.8918 - val_loss: 0.2583 - val_accuracy: 0.9006\n",
      "Epoch 15/100\n",
      "848/848 [==============================] - 10s 12ms/step - loss: 0.2875 - accuracy: 0.8918 - val_loss: 0.2483 - val_accuracy: 0.9059\n",
      "Epoch 16/100\n",
      "848/848 [==============================] - 10s 12ms/step - loss: 0.2894 - accuracy: 0.8923 - val_loss: 0.2497 - val_accuracy: 0.9021\n",
      "Epoch 17/100\n",
      "848/848 [==============================] - 11s 13ms/step - loss: 0.2862 - accuracy: 0.8943 - val_loss: 0.2459 - val_accuracy: 0.9054\n",
      "Epoch 18/100\n",
      "848/848 [==============================] - 9s 11ms/step - loss: 0.2789 - accuracy: 0.8943 - val_loss: 0.2424 - val_accuracy: 0.9100\n",
      "Epoch 19/100\n",
      "848/848 [==============================] - 11s 12ms/step - loss: 0.2780 - accuracy: 0.8949 - val_loss: 0.2377 - val_accuracy: 0.9071\n",
      "Epoch 20/100\n",
      "848/848 [==============================] - 9s 11ms/step - loss: 0.2761 - accuracy: 0.8961 - val_loss: 0.2290 - val_accuracy: 0.9154\n",
      "Epoch 21/100\n",
      "848/848 [==============================] - 10s 12ms/step - loss: 0.2724 - accuracy: 0.8990 - val_loss: 0.2393 - val_accuracy: 0.9119\n",
      "Epoch 22/100\n",
      "848/848 [==============================] - 10s 11ms/step - loss: 0.2716 - accuracy: 0.8981 - val_loss: 0.2431 - val_accuracy: 0.9076\n",
      "Epoch 23/100\n",
      "848/848 [==============================] - 9s 11ms/step - loss: 0.2702 - accuracy: 0.8986 - val_loss: 0.2306 - val_accuracy: 0.9129\n",
      "Epoch 24/100\n",
      "848/848 [==============================] - 10s 11ms/step - loss: 0.2671 - accuracy: 0.8987 - val_loss: 0.2314 - val_accuracy: 0.9147\n",
      "Epoch 25/100\n",
      "848/848 [==============================] - 10s 11ms/step - loss: 0.2677 - accuracy: 0.9007 - val_loss: 0.2324 - val_accuracy: 0.9129\n"
     ]
    },
    {
     "data": {
      "text/plain": [
       "<keras.src.callbacks.History at 0x1bfd53cbb50>"
      ]
     },
     "execution_count": 28,
     "metadata": {},
     "output_type": "execute_result"
    }
   ],
   "source": [
    "from tensorflow.keras.callbacks import TensorBoard, EarlyStopping\n",
    "# use tensorboard to view metrics\n",
    "tensorboard = TensorBoard(log_dir=\"logs\")\n",
    "# define early stopping to stop training after 5 epochs of not improving\n",
    "early_stopping = EarlyStopping(mode=\"min\", patience=5, restore_best_weights=True)\n",
    "\n",
    "batch_size = 64\n",
    "epochs = 100\n",
    "# train the model using the training set and validating using validation set\n",
    "model.fit(data[\"x_train\"], data[\"y_train\"], epochs=epochs, batch_size=batch_size, validation_data=(data[\"x_valid\"], data[\"y_valid\"]),\n",
    "          callbacks=[tensorboard, early_stopping])"
   ]
  },
  {
   "cell_type": "code",
   "execution_count": 30,
   "id": "62e50a1e",
   "metadata": {},
   "outputs": [],
   "source": [
    "#Step 12:-Save the Model"
   ]
  },
  {
   "cell_type": "code",
   "execution_count": 32,
   "id": "2ae2d688",
   "metadata": {},
   "outputs": [],
   "source": [
    "# save the model to a file\n",
    "model.save(\"results/model.h5\")"
   ]
  },
  {
   "cell_type": "code",
   "execution_count": null,
   "id": "183a3484",
   "metadata": {},
   "outputs": [],
   "source": []
  }
 ],
 "metadata": {
  "kernelspec": {
   "display_name": "Python 3 (ipykernel)",
   "language": "python",
   "name": "python3"
  },
  "language_info": {
   "codemirror_mode": {
    "name": "ipython",
    "version": 3
   },
   "file_extension": ".py",
   "mimetype": "text/x-python",
   "name": "python",
   "nbconvert_exporter": "python",
   "pygments_lexer": "ipython3",
   "version": "3.11.0"
  }
 },
 "nbformat": 4,
 "nbformat_minor": 5
}
